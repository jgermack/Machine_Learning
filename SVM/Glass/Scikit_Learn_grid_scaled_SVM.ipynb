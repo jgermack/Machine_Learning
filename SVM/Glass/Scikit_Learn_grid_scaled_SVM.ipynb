{
 "cells": [
  {
   "cell_type": "markdown",
   "metadata": {},
   "source": [
    "### Glass type classification  \n",
    "This is a simple classification model from a Kaggle dataset: https://www.kaggle.com/uciml/glass  \n",
    "The example uses a support vector machine to classify 6 glass types based upon the mineral content.\n"
   ]
  },
  {
   "cell_type": "code",
   "execution_count": 1,
   "metadata": {
    "collapsed": true
   },
   "outputs": [],
   "source": [
    "import pandas as pd\n",
    "import numpy as np\n",
    "from sklearn import svm\n",
    "from sklearn.model_selection import train_test_split\n",
    "from sklearn.model_selection import cross_val_score\n",
    "from sklearn import preprocessing\n",
    "from sklearn.model_selection import GridSearchCV\n",
    "from sklearn.metrics import confusion_matrix\n",
    "from sklearn.metrics import classification_report\n",
    "from sklearn.metrics import accuracy_score\n",
    "from sklearn.externals import joblib"
   ]
  },
  {
   "cell_type": "code",
   "execution_count": 2,
   "metadata": {
    "collapsed": true
   },
   "outputs": [],
   "source": [
    "# set seed for reproducability\n",
    "np.random.seed(1234)"
   ]
  },
  {
   "cell_type": "code",
   "execution_count": 3,
   "metadata": {
    "collapsed": true
   },
   "outputs": [],
   "source": [
    "# read in original dataset\n",
    "glassv1 = pd.read_csv('H:\\\\My Documents\\\\Work\\\\datasets\\\\glass.csv')"
   ]
  },
  {
   "cell_type": "code",
   "execution_count": 4,
   "metadata": {},
   "outputs": [
    {
     "data": {
      "text/plain": [
       "2    76\n",
       "1    70\n",
       "7    29\n",
       "3    17\n",
       "5    13\n",
       "6     9\n",
       "Name: Type, dtype: int64"
      ]
     },
     "execution_count": 4,
     "metadata": {},
     "output_type": "execute_result"
    }
   ],
   "source": [
    "# display the distribution of glass types\n",
    "glassv1['Type']. value_counts()"
   ]
  },
  {
   "cell_type": "markdown",
   "metadata": {},
   "source": [
    "#### Note\n",
    "\n",
    "Based upon the distribution of the glass types from the counts above,  \n",
    "the original dataset is very unbalanced and doesn't provide enough  \n",
    "examples to train a good model.\n",
    "\n",
    "In an attempt to correct this problem, I used the mean and standard deviaton  \n",
    "from the original to generate additional examples to add to the current data.  \n",
    "The new dataset had the original data and the appended additional samples so  \n",
    "that all types had 70 examples with the exception of __Type 2__ with 76\n",
    "\n",
    "As shown below, the new dataset now has 426 examples versus the original 214."
   ]
  },
  {
   "cell_type": "code",
   "execution_count": 5,
   "metadata": {
    "collapsed": true
   },
   "outputs": [],
   "source": [
    "# read the new dataset\n",
    "glass = pd.read_csv('H:\\\\My Documents\\\\Work\\\\datasets\\\\newglass.csv')"
   ]
  },
  {
   "cell_type": "code",
   "execution_count": 6,
   "metadata": {},
   "outputs": [
    {
     "name": "stdout",
     "output_type": "stream",
     "text": [
      "(426, 10)\n"
     ]
    },
    {
     "data": {
      "text/html": [
       "<div>\n",
       "<table border=\"1\" class=\"dataframe\">\n",
       "  <thead>\n",
       "    <tr style=\"text-align: right;\">\n",
       "      <th></th>\n",
       "      <th>RI</th>\n",
       "      <th>Na</th>\n",
       "      <th>Mg</th>\n",
       "      <th>Al</th>\n",
       "      <th>Si</th>\n",
       "      <th>K</th>\n",
       "      <th>Ca</th>\n",
       "      <th>Ba</th>\n",
       "      <th>Fe</th>\n",
       "      <th>Type</th>\n",
       "    </tr>\n",
       "  </thead>\n",
       "  <tbody>\n",
       "    <tr>\n",
       "      <th>0</th>\n",
       "      <td>1.52101</td>\n",
       "      <td>13.64</td>\n",
       "      <td>4.49</td>\n",
       "      <td>1.10</td>\n",
       "      <td>71.78</td>\n",
       "      <td>0.06</td>\n",
       "      <td>8.75</td>\n",
       "      <td>0.0</td>\n",
       "      <td>0.0</td>\n",
       "      <td>1</td>\n",
       "    </tr>\n",
       "    <tr>\n",
       "      <th>1</th>\n",
       "      <td>1.51761</td>\n",
       "      <td>13.89</td>\n",
       "      <td>3.60</td>\n",
       "      <td>1.36</td>\n",
       "      <td>72.73</td>\n",
       "      <td>0.48</td>\n",
       "      <td>7.83</td>\n",
       "      <td>0.0</td>\n",
       "      <td>0.0</td>\n",
       "      <td>1</td>\n",
       "    </tr>\n",
       "    <tr>\n",
       "      <th>2</th>\n",
       "      <td>1.51618</td>\n",
       "      <td>13.53</td>\n",
       "      <td>3.55</td>\n",
       "      <td>1.54</td>\n",
       "      <td>72.99</td>\n",
       "      <td>0.39</td>\n",
       "      <td>7.78</td>\n",
       "      <td>0.0</td>\n",
       "      <td>0.0</td>\n",
       "      <td>1</td>\n",
       "    </tr>\n",
       "    <tr>\n",
       "      <th>3</th>\n",
       "      <td>1.51766</td>\n",
       "      <td>13.21</td>\n",
       "      <td>3.69</td>\n",
       "      <td>1.29</td>\n",
       "      <td>72.61</td>\n",
       "      <td>0.57</td>\n",
       "      <td>8.22</td>\n",
       "      <td>0.0</td>\n",
       "      <td>0.0</td>\n",
       "      <td>1</td>\n",
       "    </tr>\n",
       "    <tr>\n",
       "      <th>4</th>\n",
       "      <td>1.51742</td>\n",
       "      <td>13.27</td>\n",
       "      <td>3.62</td>\n",
       "      <td>1.24</td>\n",
       "      <td>73.08</td>\n",
       "      <td>0.55</td>\n",
       "      <td>8.07</td>\n",
       "      <td>0.0</td>\n",
       "      <td>0.0</td>\n",
       "      <td>1</td>\n",
       "    </tr>\n",
       "  </tbody>\n",
       "</table>\n",
       "</div>"
      ],
      "text/plain": [
       "        RI     Na    Mg    Al     Si     K    Ca   Ba   Fe  Type\n",
       "0  1.52101  13.64  4.49  1.10  71.78  0.06  8.75  0.0  0.0     1\n",
       "1  1.51761  13.89  3.60  1.36  72.73  0.48  7.83  0.0  0.0     1\n",
       "2  1.51618  13.53  3.55  1.54  72.99  0.39  7.78  0.0  0.0     1\n",
       "3  1.51766  13.21  3.69  1.29  72.61  0.57  8.22  0.0  0.0     1\n",
       "4  1.51742  13.27  3.62  1.24  73.08  0.55  8.07  0.0  0.0     1"
      ]
     },
     "execution_count": 6,
     "metadata": {},
     "output_type": "execute_result"
    }
   ],
   "source": [
    "# display the shape of the dataset along with first 5 rows\n",
    "print(glass.shape)\n",
    "glass.head()"
   ]
  },
  {
   "cell_type": "code",
   "execution_count": 7,
   "metadata": {},
   "outputs": [
    {
     "data": {
      "text/plain": [
       "2    76\n",
       "7    70\n",
       "6    70\n",
       "5    70\n",
       "3    70\n",
       "1    70\n",
       "Name: Type, dtype: int64"
      ]
     },
     "execution_count": 7,
     "metadata": {},
     "output_type": "execute_result"
    }
   ],
   "source": [
    "# display the distribution of glass types from the new dataset\n",
    "glass['Type'].value_counts()"
   ]
  },
  {
   "cell_type": "code",
   "execution_count": 8,
   "metadata": {
    "collapsed": true
   },
   "outputs": [],
   "source": [
    "# split dataset into training and test data\n",
    "train_data, test_data = train_test_split(glass, test_size=0.2)"
   ]
  },
  {
   "cell_type": "code",
   "execution_count": 9,
   "metadata": {
    "collapsed": true
   },
   "outputs": [],
   "source": [
    "# create numpy array of data\n",
    "train_datawk = train_data.iloc[:, 0:8].as_matrix()\n",
    "test_datawk = test_data.iloc[:, 0:8].as_matrix()"
   ]
  },
  {
   "cell_type": "code",
   "execution_count": 10,
   "metadata": {
    "collapsed": true
   },
   "outputs": [],
   "source": [
    "# training and test datasets scaled\n",
    "train_scaled = preprocessing.scale(train_datawk)\n",
    "test_scaled = preprocessing.scale(test_datawk)"
   ]
  },
  {
   "cell_type": "code",
   "execution_count": 11,
   "metadata": {
    "collapsed": true
   },
   "outputs": [],
   "source": [
    "# create numpy array of labels\n",
    "train_labelwk = train_data.loc[:, \"Type\"].as_matrix()\n",
    "test_labelwk = test_data.loc[:, \"Type\"].as_matrix()"
   ]
  },
  {
   "cell_type": "markdown",
   "metadata": {},
   "source": [
    "#### Note\n",
    "\n",
    "The dataset was divided into training and test data at an 80/20 split and matricies  \n",
    "were created for the model input as required. Both the training and test data were  \n",
    "also scaled to 0 mean and 1 standard deviation."
   ]
  },
  {
   "cell_type": "code",
   "execution_count": 12,
   "metadata": {
    "collapsed": true
   },
   "outputs": [],
   "source": [
    "# parameters are defined to use in grid search\n",
    "param_tune = [{'kernel':['rbf'], 'gamma': [0.1, 0.25, 0.50], 'C': [0.5, 1, 1.5, 2.0, 2.5]},\n",
    "             {'kernel': ['poly'], 'degree': [2, 3], 'C': [0.5, 1, 1.5, 2.0, 2.5]}]"
   ]
  },
  {
   "cell_type": "code",
   "execution_count": 13,
   "metadata": {},
   "outputs": [
    {
     "name": "stdout",
     "output_type": "stream",
     "text": [
      "{'C': 2.0, 'kernel': 'rbf', 'gamma': 0.25}\n"
     ]
    }
   ],
   "source": [
    "# train and fit the model by a grid search on the parameter values\n",
    "clf_model = GridSearchCV(svm.SVC(C=0.5), param_tune, cv=10, scoring='accuracy')\n",
    "clf_model.fit(train_scaled, train_labelwk)\n",
    "print(clf_model.best_params_)"
   ]
  },
  {
   "cell_type": "code",
   "execution_count": 14,
   "metadata": {},
   "outputs": [
    {
     "name": "stdout",
     "output_type": "stream",
     "text": [
      "0.802\n"
     ]
    }
   ],
   "source": [
    "# take the model and score the test data\n",
    "print(round(clf_model.score(test_scaled, test_labelwk), 3))"
   ]
  },
  {
   "cell_type": "markdown",
   "metadata": {},
   "source": [
    "#### Note\n",
    "For the SVM, I decided to try a RBF and Ploynomial kernel along with variations in  \n",
    "the gamma, degree and C parameters. The GridSearchCV function was used to test the  \n",
    "kernels and their parameters to find the best solution based on the accuracy metric.\n",
    "\n",
    "An RBF kernel was selected with gamma=0.25 and C=2.0. The combination should provide  \n",
    "support vectors that provide good coverage and granularity over the data. Results against  \n",
    "the test data showed 80% accuracy. This model is saved for future use to predict the glass  \n",
    "type from a recreated dataset."
   ]
  },
  {
   "cell_type": "code",
   "execution_count": 15,
   "metadata": {},
   "outputs": [
    {
     "data": {
      "text/plain": [
       "['H:\\\\My Documents\\\\python_files\\\\models\\\\glass_jobmodelSVMscaled.sav']"
      ]
     },
     "execution_count": 15,
     "metadata": {},
     "output_type": "execute_result"
    }
   ],
   "source": [
    "# Save the model to a file for future use\n",
    "job_model = ('H:\\\\My Documents\\\\python_files\\\\models\\\\glass_jobmodelSVMscaled.sav')\n",
    "joblib.dump(clf_model, job_model)"
   ]
  },
  {
   "cell_type": "code",
   "execution_count": 16,
   "metadata": {
    "collapsed": true,
    "scrolled": true
   },
   "outputs": [],
   "source": [
    "# read in dataset to predict --- example dataset created from mean/stdev of original data\n",
    "glass_pred = pd.read_csv('H:\\\\My Documents\\\\Work\\\\datasets\\\\glass\\\\fakeglass.csv')"
   ]
  },
  {
   "cell_type": "code",
   "execution_count": 17,
   "metadata": {},
   "outputs": [
    {
     "name": "stdout",
     "output_type": "stream",
     "text": [
      "(600, 10)\n"
     ]
    },
    {
     "data": {
      "text/html": [
       "<div>\n",
       "<table border=\"1\" class=\"dataframe\">\n",
       "  <thead>\n",
       "    <tr style=\"text-align: right;\">\n",
       "      <th></th>\n",
       "      <th>RI</th>\n",
       "      <th>Na</th>\n",
       "      <th>Mg</th>\n",
       "      <th>Al</th>\n",
       "      <th>Si</th>\n",
       "      <th>K</th>\n",
       "      <th>Ca</th>\n",
       "      <th>Ba</th>\n",
       "      <th>Fe</th>\n",
       "      <th>Type</th>\n",
       "    </tr>\n",
       "  </thead>\n",
       "  <tbody>\n",
       "    <tr>\n",
       "      <th>0</th>\n",
       "      <td>1.521671</td>\n",
       "      <td>13.431947</td>\n",
       "      <td>3.622851</td>\n",
       "      <td>0.854760</td>\n",
       "      <td>73.713339</td>\n",
       "      <td>0.502031</td>\n",
       "      <td>9.103466</td>\n",
       "      <td>-0.132064</td>\n",
       "      <td>0.047244</td>\n",
       "      <td>1</td>\n",
       "    </tr>\n",
       "    <tr>\n",
       "      <th>1</th>\n",
       "      <td>1.522557</td>\n",
       "      <td>13.239578</td>\n",
       "      <td>3.348771</td>\n",
       "      <td>1.324100</td>\n",
       "      <td>72.542750</td>\n",
       "      <td>0.269667</td>\n",
       "      <td>8.927930</td>\n",
       "      <td>-0.006342</td>\n",
       "      <td>0.017555</td>\n",
       "      <td>1</td>\n",
       "    </tr>\n",
       "    <tr>\n",
       "      <th>2</th>\n",
       "      <td>1.518733</td>\n",
       "      <td>13.499000</td>\n",
       "      <td>3.873861</td>\n",
       "      <td>1.142749</td>\n",
       "      <td>72.789190</td>\n",
       "      <td>0.125805</td>\n",
       "      <td>8.312390</td>\n",
       "      <td>-0.072759</td>\n",
       "      <td>0.044885</td>\n",
       "      <td>1</td>\n",
       "    </tr>\n",
       "    <tr>\n",
       "      <th>3</th>\n",
       "      <td>1.518428</td>\n",
       "      <td>13.857746</td>\n",
       "      <td>3.652998</td>\n",
       "      <td>0.822807</td>\n",
       "      <td>72.644126</td>\n",
       "      <td>0.748717</td>\n",
       "      <td>8.577476</td>\n",
       "      <td>0.058371</td>\n",
       "      <td>0.029820</td>\n",
       "      <td>1</td>\n",
       "    </tr>\n",
       "    <tr>\n",
       "      <th>4</th>\n",
       "      <td>1.516934</td>\n",
       "      <td>12.494064</td>\n",
       "      <td>3.480528</td>\n",
       "      <td>1.065279</td>\n",
       "      <td>72.613119</td>\n",
       "      <td>0.240472</td>\n",
       "      <td>8.820267</td>\n",
       "      <td>-0.047982</td>\n",
       "      <td>0.116870</td>\n",
       "      <td>1</td>\n",
       "    </tr>\n",
       "  </tbody>\n",
       "</table>\n",
       "</div>"
      ],
      "text/plain": [
       "         RI         Na        Mg        Al         Si         K        Ca  \\\n",
       "0  1.521671  13.431947  3.622851  0.854760  73.713339  0.502031  9.103466   \n",
       "1  1.522557  13.239578  3.348771  1.324100  72.542750  0.269667  8.927930   \n",
       "2  1.518733  13.499000  3.873861  1.142749  72.789190  0.125805  8.312390   \n",
       "3  1.518428  13.857746  3.652998  0.822807  72.644126  0.748717  8.577476   \n",
       "4  1.516934  12.494064  3.480528  1.065279  72.613119  0.240472  8.820267   \n",
       "\n",
       "         Ba        Fe  Type  \n",
       "0 -0.132064  0.047244     1  \n",
       "1 -0.006342  0.017555     1  \n",
       "2 -0.072759  0.044885     1  \n",
       "3  0.058371  0.029820     1  \n",
       "4 -0.047982  0.116870     1  "
      ]
     },
     "execution_count": 17,
     "metadata": {},
     "output_type": "execute_result"
    }
   ],
   "source": [
    "# display the shape of the prediction dataset along with first 5 rows\n",
    "print(glass_pred.shape)\n",
    "glass_pred.head()"
   ]
  },
  {
   "cell_type": "markdown",
   "metadata": {},
   "source": [
    "#### Note  \n",
    "The next step is to create some fake data in order to use the model to predict glass type.  \n",
    "In order to create the dataset, I again used the mean and standard deviaton for each of the  \n",
    "minerals and glass types to generate 100 examples of each glass type.\n",
    "\n",
    "I hadn't spend any time in making corrections to this prediction dataset and some problems  \n",
    "are evident. In the column Ba in the table above, one can see negative values which wouldn't  \n",
    "exist in real glass samples.\n",
    "\n",
    "In the steps below, the prediction data was prepared similar to the training/test data  \n",
    "with scaling. Predictions were made and I added evaluation metrics: confusion matrix,  \n",
    "precision, recall and f1-score."
   ]
  },
  {
   "cell_type": "code",
   "execution_count": 18,
   "metadata": {
    "collapsed": true
   },
   "outputs": [],
   "source": [
    "# create numpy array of data\n",
    "glass_pred_new = glass_pred.iloc[:, 0:8].as_matrix()\n",
    "glass_pred_label = glass_pred.loc[:, \"Type\"].as_matrix()"
   ]
  },
  {
   "cell_type": "code",
   "execution_count": 19,
   "metadata": {
    "collapsed": true
   },
   "outputs": [],
   "source": [
    "# scale data from prediction dataset\n",
    "glass_pred_newsc = preprocessing.scale(glass_pred_new)"
   ]
  },
  {
   "cell_type": "code",
   "execution_count": 20,
   "metadata": {
    "collapsed": true
   },
   "outputs": [],
   "source": [
    "# load the saved model\n",
    "scores_job = joblib.load('H:\\\\My Documents\\\\python_files\\\\models\\\\glass_jobmodelSVMscaled.sav')"
   ]
  },
  {
   "cell_type": "code",
   "execution_count": 21,
   "metadata": {
    "collapsed": true
   },
   "outputs": [],
   "source": [
    "# generate glass type predicitons from the prediction dataset\n",
    "pred_results = scores_job.predict(glass_pred_newsc)"
   ]
  },
  {
   "cell_type": "code",
   "execution_count": 22,
   "metadata": {},
   "outputs": [
    {
     "name": "stdout",
     "output_type": "stream",
     "text": [
      "[[17 12 70  0  1  0]\n",
      " [10 21 20 28 20  1]\n",
      " [ 6  6 87  1  0  0]\n",
      " [ 0  1  0 91  4  4]\n",
      " [ 0  1  1  9 89  0]\n",
      " [ 0  0  0  8 16 76]]\n"
     ]
    }
   ],
   "source": [
    "# generate confusion matrix from prediction results\n",
    "# left side is actual --- top is predicted\n",
    "print(confusion_matrix(glass_pred_label, pred_results))"
   ]
  },
  {
   "cell_type": "code",
   "execution_count": 23,
   "metadata": {},
   "outputs": [
    {
     "name": "stdout",
     "output_type": "stream",
     "text": [
      "             precision    recall  f1-score   support\n",
      "\n",
      "          1       0.52      0.17      0.26       100\n",
      "          2       0.51      0.21      0.30       100\n",
      "          3       0.49      0.87      0.63       100\n",
      "          5       0.66      0.91      0.77       100\n",
      "          6       0.68      0.89      0.77       100\n",
      "          7       0.94      0.76      0.84       100\n",
      "\n",
      "avg / total       0.63      0.64      0.59       600\n",
      "\n"
     ]
    }
   ],
   "source": [
    "# generate standard metrics from prediction results\n",
    "print(classification_report(glass_pred_label, pred_results))"
   ]
  },
  {
   "cell_type": "code",
   "execution_count": 24,
   "metadata": {},
   "outputs": [
    {
     "name": "stdout",
     "output_type": "stream",
     "text": [
      "0.635\n"
     ]
    }
   ],
   "source": [
    "# generate accuracy measure from prediction results\n",
    "print(round(accuracy_score(glass_pred_label, pred_results), 3))"
   ]
  },
  {
   "cell_type": "markdown",
   "metadata": {
    "collapsed": true
   },
   "source": [
    "#### Summary\n",
    "The overall accuracy of the model on the prediction dataset was 64% which is  \n",
    "not great but there are some obvious changes that can be made to improve the model.\n",
    "\n",
    "The model performed well with glass types 3 - 7 but struggled with types 1 & 2.  \n",
    "There were a good deal of __false negatives__ in these glass types thus lowering  \n",
    "the recall scores. Type 3 glass also had a high number of __false positives__ which  \n",
    "lower the precision value.\n",
    "\n",
    "The approach of creating extra training data was good and necessary but corrections  \n",
    "to that extra data would be needed. Specifically correcting any negative values and  \n",
    "adjusting any extreme values. The mineral values within each glass type also needs  \n",
    "to be considered and adjusted as needed.\n",
    "\n",
    "The same can be said for prediction dataset. This dataset was totally made up so creating  \n",
    "real world data from the mean/standard deviation combination is a challange. Even with  \n",
    "those issues, the model worked well for 4 of the 6 glass groups."
   ]
  },
  {
   "cell_type": "code",
   "execution_count": null,
   "metadata": {
    "collapsed": true
   },
   "outputs": [],
   "source": []
  }
 ],
 "metadata": {
  "anaconda-cloud": {},
  "kernelspec": {
   "display_name": "Python [conda root]",
   "language": "python",
   "name": "conda-root-py"
  },
  "language_info": {
   "codemirror_mode": {
    "name": "ipython",
    "version": 3
   },
   "file_extension": ".py",
   "mimetype": "text/x-python",
   "name": "python",
   "nbconvert_exporter": "python",
   "pygments_lexer": "ipython3",
   "version": "3.5.5"
  }
 },
 "nbformat": 4,
 "nbformat_minor": 2
}
